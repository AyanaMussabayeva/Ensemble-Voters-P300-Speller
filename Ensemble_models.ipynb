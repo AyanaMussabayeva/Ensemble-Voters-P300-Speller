{
 "cells": [
  {
   "cell_type": "code",
   "execution_count": 2,
   "metadata": {},
   "outputs": [],
   "source": [
    "\n",
    "import scipy.io\n",
    "from sklearn import svm\n",
    "import os\n",
    "import pandas as pd\n",
    "import numpy as np\n",
    "import matplotlib.pyplot as plt\n",
    "from mat4py import loadmat\n",
    "from sklearn.discriminant_analysis import LinearDiscriminantAnalysis\n",
    "from sklearn.model_selection import train_test_split\n",
    "import time \n",
    "from sklearn.metrics import confusion_matrix\n",
    "from sklearn.metrics import plot_confusion_matrix\n",
    "from sklearn.model_selection import KFold\n",
    "from keras.utils import to_categorical\n",
    "import sklearn.metrics as metrics"
   ]
  },
  {
   "cell_type": "code",
   "execution_count": 3,
   "metadata": {},
   "outputs": [],
   "source": [
    "maindir = 'preprocessedData'"
   ]
  },
  {
   "cell_type": "code",
   "execution_count": 4,
   "metadata": {},
   "outputs": [],
   "source": [
    "eegs= []\n",
    "labels = []"
   ]
  },
  {
   "cell_type": "code",
   "execution_count": 5,
   "metadata": {},
   "outputs": [
    {
     "name": "stdout",
     "output_type": "stream",
     "text": [
      "S4_targets\n",
      "S5_non-targets\n",
      ".DS_Store\n",
      "S5_targets\n",
      "S3_non-targets\n",
      "S1_non-targets\n",
      "S3_targets\n",
      "S2_targets\n",
      "S4_non-targets\n",
      "S1_targets\n",
      "S2_non-targets\n"
     ]
    }
   ],
   "source": [
    "directory_contents = os.listdir(maindir)\n",
    "for mydir in directory_contents:\n",
    "    print(mydir)\n",
    "    if(mydir != '.DS_Store'):\n",
    "        mydir = os.path.join(maindir, mydir)\n",
    "        for fname in os.listdir(mydir):\n",
    "            #print(fname,)\n",
    "            fpath = os.path.join(mydir, fname)\n",
    "            currentEegData = pd.read_csv(fpath, header = None)\n",
    "            currentEeg = currentEegData.to_numpy()\n",
    "            eegs.append(currentEeg)\n",
    "            if(fname[3:9] == 'target'):\n",
    "                #print('it is target')\n",
    "                currentLabel = 1\n",
    "                labels.append(currentLabel)\n",
    "            elif(fname[3:13] == 'non-target'):\n",
    "                #print('it is target')\n",
    "                currentLabel = -1\n",
    "                labels.append(currentLabel)"
   ]
  },
  {
   "cell_type": "code",
   "execution_count": 6,
   "metadata": {},
   "outputs": [
    {
     "data": {
      "text/plain": [
       "(6000, 201, 8)"
      ]
     },
     "execution_count": 6,
     "metadata": {},
     "output_type": "execute_result"
    }
   ],
   "source": [
    "eegsNp = np.array(eegs)\n",
    "eegsNp.shape"
   ]
  },
  {
   "cell_type": "code",
   "execution_count": 7,
   "metadata": {},
   "outputs": [
    {
     "name": "stdout",
     "output_type": "stream",
     "text": [
      "(6000,)\n"
     ]
    }
   ],
   "source": [
    "labelsNp = np.array(labels)\n",
    "print(labelsNp.shape)"
   ]
  },
  {
   "cell_type": "code",
   "execution_count": 8,
   "metadata": {},
   "outputs": [],
   "source": [
    "x_train, x_test, y_train, y_test = train_test_split(eegsNp, labelsNp, test_size=0.2, random_state=4)"
   ]
  },
  {
   "cell_type": "code",
   "execution_count": 9,
   "metadata": {},
   "outputs": [
    {
     "data": {
      "text/plain": [
       "(4800, 201, 8)"
      ]
     },
     "execution_count": 9,
     "metadata": {},
     "output_type": "execute_result"
    }
   ],
   "source": [
    "x_train.shape"
   ]
  },
  {
   "cell_type": "code",
   "execution_count": 10,
   "metadata": {},
   "outputs": [
    {
     "data": {
      "text/plain": [
       "(4800,)"
      ]
     },
     "execution_count": 10,
     "metadata": {},
     "output_type": "execute_result"
    }
   ],
   "source": [
    "y_train.shape"
   ]
  },
  {
   "cell_type": "code",
   "execution_count": 11,
   "metadata": {},
   "outputs": [
    {
     "name": "stdout",
     "output_type": "stream",
     "text": [
      "(4800, 201)\n"
     ]
    }
   ],
   "source": [
    "x_train_average = np.average(x_train, axis=2)\n",
    "print(x_train_average.shape)"
   ]
  },
  {
   "cell_type": "code",
   "execution_count": 12,
   "metadata": {},
   "outputs": [
    {
     "name": "stdout",
     "output_type": "stream",
     "text": [
      "(1200, 201)\n"
     ]
    }
   ],
   "source": [
    "x_test_average = np.average(x_test, axis=2)\n",
    "print(x_test_average.shape)"
   ]
  },
  {
   "cell_type": "code",
   "execution_count": null,
   "metadata": {},
   "outputs": [],
   "source": []
  },
  {
   "cell_type": "markdown",
   "metadata": {},
   "source": [
    "# LDA\n"
   ]
  },
  {
   "cell_type": "code",
   "execution_count": 13,
   "metadata": {},
   "outputs": [],
   "source": [
    "lda = LinearDiscriminantAnalysis()"
   ]
  },
  {
   "cell_type": "code",
   "execution_count": 14,
   "metadata": {},
   "outputs": [
    {
     "name": "stdout",
     "output_type": "stream",
     "text": [
      "time: 0.23710203170776367\n"
     ]
    }
   ],
   "source": [
    "start = time.time()\n",
    "LDA_avg = lda.fit(x_train_average, y_train).transform(x_train_average)\n",
    "stop = time.time()\n",
    "print(\"time:\", stop-start)"
   ]
  },
  {
   "cell_type": "code",
   "execution_count": 15,
   "metadata": {},
   "outputs": [
    {
     "name": "stdout",
     "output_type": "stream",
     "text": [
      "accuracy: 0.9891666666666666\n",
      "recall: 0.9103448275862069\n",
      "precision: 1.0\n",
      "roc-auc: 0.9551724137931035\n",
      "f-measure: 0.9530685920577617\n",
      "time: 0.00146484375\n"
     ]
    }
   ],
   "source": [
    "start = time.time()\n",
    "prediction= lda.predict(x_test_average)\n",
    "stop = time.time()\n",
    "print(\"accuracy:\",metrics.accuracy_score(y_test, prediction))\n",
    "print(\"recall:\",metrics.recall_score(y_test, prediction))\n",
    "print(\"precision:\",metrics.precision_score(y_test, prediction))\n",
    "print(\"roc-auc:\",metrics.roc_auc_score(y_test, prediction))\n",
    "print(\"f-measure:\",metrics.f1_score(y_test, prediction))\n",
    "print(\"time:\", stop - start)"
   ]
  },
  {
   "cell_type": "code",
   "execution_count": null,
   "metadata": {},
   "outputs": [],
   "source": []
  },
  {
   "cell_type": "markdown",
   "metadata": {},
   "source": [
    "# KNN"
   ]
  },
  {
   "cell_type": "code",
   "execution_count": null,
   "metadata": {},
   "outputs": [],
   "source": []
  },
  {
   "cell_type": "code",
   "execution_count": 16,
   "metadata": {},
   "outputs": [],
   "source": [
    "from sklearn.neighbors import KNeighborsClassifier\n",
    "kNN_Manhattan = KNeighborsClassifier(n_neighbors=3, weights='distance', p = 1)"
   ]
  },
  {
   "cell_type": "code",
   "execution_count": 17,
   "metadata": {},
   "outputs": [
    {
     "name": "stdout",
     "output_type": "stream",
     "text": [
      "training time: 0.05698418617248535\n"
     ]
    }
   ],
   "source": [
    "start = time.time()\n",
    "kNN_Manh_avg = kNN_Manhattan.fit(x_train_average, y_train)\n",
    "stop = time.time()\n",
    "print(\"training time:\", stop-start)"
   ]
  },
  {
   "cell_type": "code",
   "execution_count": 18,
   "metadata": {},
   "outputs": [
    {
     "name": "stdout",
     "output_type": "stream",
     "text": [
      "accuracy: 0.9966666666666667\n",
      "recall: 0.9724137931034482\n",
      "precision: 1.0\n",
      "roc-auc: 0.9862068965517241\n",
      "f-measure: 0.9860139860139859\n",
      "time: 0.5218160152435303\n"
     ]
    }
   ],
   "source": [
    "start = time.time()\n",
    "prediction= kNN_Manhattan.predict(x_test_average)\n",
    "stop = time.time() \n",
    "print(\"accuracy:\",metrics.accuracy_score(y_test, prediction))\n",
    "print(\"recall:\",metrics.recall_score(y_test, prediction))\n",
    "print(\"precision:\",metrics.precision_score(y_test, prediction))\n",
    "print(\"roc-auc:\",metrics.roc_auc_score(y_test, prediction))\n",
    "print(\"f-measure:\",metrics.f1_score(y_test, prediction))\n",
    "print(\"time:\", stop - start)"
   ]
  },
  {
   "cell_type": "markdown",
   "metadata": {},
   "source": [
    "# SVM"
   ]
  },
  {
   "cell_type": "code",
   "execution_count": 19,
   "metadata": {},
   "outputs": [
    {
     "name": "stdout",
     "output_type": "stream",
     "text": [
      "1.344454050064087\n"
     ]
    }
   ],
   "source": [
    "from sklearn import svm\n",
    "svmClf = svm.SVC(probability=True)\n",
    "start = time.time()\n",
    "svmClf.fit(x_train_average, y_train)\n",
    "stop = time.time()\n",
    "print(stop-start)"
   ]
  },
  {
   "cell_type": "code",
   "execution_count": 20,
   "metadata": {},
   "outputs": [
    {
     "name": "stdout",
     "output_type": "stream",
     "text": [
      "accuracy: 0.9991666666666666\n",
      "recall: 0.993103448275862\n",
      "precision: 1.0\n",
      "roc-auc: 0.996551724137931\n",
      "f-measure: 0.9965397923875432\n",
      "time: 0.04038095474243164\n"
     ]
    }
   ],
   "source": [
    "start = time.time()\n",
    "prediction = svmClf.predict(x_test_average)\n",
    "stop = time.time() \n",
    "print(\"accuracy:\",metrics.accuracy_score(y_test, prediction))\n",
    "print(\"recall:\",metrics.recall_score(y_test, prediction))\n",
    "print(\"precision:\",metrics.precision_score(y_test, prediction))\n",
    "print(\"roc-auc:\",metrics.roc_auc_score(y_test, prediction))\n",
    "print(\"f-measure:\",metrics.f1_score(y_test, prediction))\n",
    "print(\"time:\", stop - start)"
   ]
  },
  {
   "cell_type": "markdown",
   "metadata": {},
   "source": [
    "# Ensemble"
   ]
  },
  {
   "cell_type": "markdown",
   "metadata": {},
   "source": [
    "## lda-knn"
   ]
  },
  {
   "cell_type": "code",
   "execution_count": 21,
   "metadata": {},
   "outputs": [
    {
     "name": "stdout",
     "output_type": "stream",
     "text": [
      "time 0.24949097633361816\n",
      "accuracy: 0.9858333333333333\n",
      "recall: 0.8827586206896552\n",
      "precision: 1.0\n",
      "roc-auc: 0.9413793103448276\n",
      "f-measure: 0.9377289377289377\n"
     ]
    }
   ],
   "source": [
    "from sklearn.ensemble import VotingClassifier\n",
    "\n",
    "lda_knn_maxvote = VotingClassifier(estimators=[('knn', kNN_Manhattan), ('lda', lda)], voting='hard')\n",
    "start = time.time() \n",
    "lda_knn_maxvote.fit(x_train_average,y_train)\n",
    "stop = time.time()                                    \n",
    "print(\"time\", stop-start)\n",
    "prediction = lda_knn_maxvote.predict(x_test_average)\n",
    "print(\"accuracy:\",metrics.accuracy_score(y_test, prediction))\n",
    "print(\"recall:\",metrics.recall_score(y_test, prediction))\n",
    "print(\"precision:\",metrics.precision_score(y_test, prediction))\n",
    "print(\"roc-auc:\",metrics.roc_auc_score(y_test, prediction))\n",
    "print(\"f-measure:\",metrics.f1_score(y_test, prediction))"
   ]
  },
  {
   "cell_type": "code",
   "execution_count": 22,
   "metadata": {},
   "outputs": [
    {
     "name": "stdout",
     "output_type": "stream",
     "text": [
      "time 0.21390604972839355\n",
      "accuracy: 0.9966666666666667\n",
      "recall: 0.9724137931034482\n",
      "precision: 1.0\n",
      "roc-auc: 0.9862068965517241\n",
      "f-measure: 0.9860139860139859\n"
     ]
    }
   ],
   "source": [
    "lda_knn_argmax = VotingClassifier(estimators=[('knn', kNN_Manhattan), ('lda', lda)], voting='soft')\n",
    "start = time.time() \n",
    "lda_knn_argmax.fit(x_train_average,y_train)\n",
    "stop = time.time()                                    \n",
    "print(\"time\", stop-start)\n",
    "prediction = lda_knn_argmax.predict(x_test_average)\n",
    "print(\"accuracy:\",metrics.accuracy_score(y_test, prediction))\n",
    "print(\"recall:\",metrics.recall_score(y_test, prediction))\n",
    "print(\"precision:\",metrics.precision_score(y_test, prediction))\n",
    "print(\"roc-auc:\",metrics.roc_auc_score(y_test, prediction))\n",
    "print(\"f-measure:\",metrics.f1_score(y_test, prediction))"
   ]
  },
  {
   "cell_type": "markdown",
   "metadata": {},
   "source": [
    "# lda-knn-svm"
   ]
  },
  {
   "cell_type": "code",
   "execution_count": 23,
   "metadata": {},
   "outputs": [
    {
     "name": "stdout",
     "output_type": "stream",
     "text": [
      "time 1.495192050933838\n",
      "accuracy: 0.9991666666666666\n",
      "recall: 0.993103448275862\n",
      "precision: 1.0\n",
      "roc-auc: 0.996551724137931\n",
      "f-measure: 0.9965397923875432\n"
     ]
    }
   ],
   "source": [
    "lda_knn_svm = VotingClassifier(estimators=[('knn', kNN_Manhattan), ('lda', lda), ('svm', svmClf)], voting='soft')\n",
    "start = time.time()\n",
    "lda_knn_svm.fit(x_train_average,y_train)\n",
    "stop = time.time()                                    \n",
    "print(\"time\", stop-start)\n",
    "prediction = lda_knn_svm.predict(x_test_average)\n",
    "print(\"accuracy:\",metrics.accuracy_score(y_test, prediction))\n",
    "print(\"recall:\",metrics.recall_score(y_test, prediction))\n",
    "print(\"precision:\",metrics.precision_score(y_test, prediction))\n",
    "print(\"roc-auc:\",metrics.roc_auc_score(y_test, prediction))\n",
    "print(\"f-measure:\",metrics.f1_score(y_test, prediction))"
   ]
  },
  {
   "cell_type": "code",
   "execution_count": 24,
   "metadata": {},
   "outputs": [
    {
     "name": "stdout",
     "output_type": "stream",
     "text": [
      "time 1.511268138885498\n",
      "prediction time 0.5625121593475342\n",
      "accuracy: 0.9991666666666666\n",
      "recall: 0.993103448275862\n",
      "precision: 1.0\n",
      "roc-auc: 0.996551724137931\n",
      "f-measure: 0.9965397923875432\n"
     ]
    }
   ],
   "source": [
    "lda_knn_svm_maxvote = VotingClassifier(estimators=[('knn', kNN_Manhattan), ('lda', lda), ('svm', svmClf)], voting='hard')\n",
    "start = time.time()\n",
    "lda_knn_svm_maxvote.fit(x_train_average,y_train)\n",
    "stop = time.time()                                    \n",
    "print(\"time\", stop-start)\n",
    "start = time.time()\n",
    "prediction = lda_knn_svm_maxvote.predict(x_test_average)\n",
    "stop = time.time()                                    \n",
    "print(\"prediction time\", stop-start)\n",
    "print(\"accuracy:\",metrics.accuracy_score(y_test, prediction))\n",
    "print(\"recall:\",metrics.recall_score(y_test, prediction))\n",
    "print(\"precision:\",metrics.precision_score(y_test, prediction))\n",
    "print(\"roc-auc:\",metrics.roc_auc_score(y_test, prediction))\n",
    "print(\"f-measure:\",metrics.f1_score(y_test, prediction))"
   ]
  },
  {
   "cell_type": "markdown",
   "metadata": {},
   "source": [
    "# Ensemble voting with Grid Search"
   ]
  },
  {
   "cell_type": "code",
   "execution_count": 25,
   "metadata": {},
   "outputs": [],
   "source": [
    "from sklearn.model_selection import GridSearchCV"
   ]
  },
  {
   "cell_type": "code",
   "execution_count": 26,
   "metadata": {},
   "outputs": [
    {
     "name": "stdout",
     "output_type": "stream",
     "text": [
      "Fitting 3 folds for each of 20 candidates, totalling 60 fits\n"
     ]
    },
    {
     "name": "stderr",
     "output_type": "stream",
     "text": [
      "[Parallel(n_jobs=-1)]: Using backend LokyBackend with 8 concurrent workers.\n",
      "[Parallel(n_jobs=-1)]: Done  34 tasks      | elapsed:    8.9s\n",
      "[Parallel(n_jobs=-1)]: Done  60 out of  60 | elapsed:   13.1s finished\n"
     ]
    }
   ],
   "source": [
    "knn_params = {'n_neighbors':[3, 5, 7, 9, 11],\n",
    "              'weights':['uniform', 'distance'],\n",
    "              'metric': ['euclidean', 'manhattan']}\n",
    "\n",
    "knn_gs = GridSearchCV(KNeighborsClassifier(), knn_params, verbose=1, cv = 3, n_jobs = -1)\n",
    "knn_gs_results = knn_gs.fit(x_train_average, y_train)"
   ]
  },
  {
   "cell_type": "code",
   "execution_count": 27,
   "metadata": {},
   "outputs": [
    {
     "data": {
      "text/plain": [
       "{'metric': 'manhattan', 'n_neighbors': 3, 'weights': 'uniform'}"
      ]
     },
     "execution_count": 27,
     "metadata": {},
     "output_type": "execute_result"
    }
   ],
   "source": [
    "knn_gs_results.best_params_"
   ]
  },
  {
   "cell_type": "code",
   "execution_count": null,
   "metadata": {},
   "outputs": [],
   "source": []
  },
  {
   "cell_type": "code",
   "execution_count": 35,
   "metadata": {},
   "outputs": [],
   "source": [
    "from sklearn.preprocessing import StandardScaler \n",
    "ss = StandardScaler()\n",
    "x_train_scaled = ss.fit_transform(x_train_average)\n",
    "x_test_scaled = ss.transform(x_test_average)\n"
   ]
  },
  {
   "cell_type": "code",
   "execution_count": 40,
   "metadata": {},
   "outputs": [
    {
     "name": "stdout",
     "output_type": "stream",
     "text": [
      "[Voting] ...................... (1 of 3) Processing knn, total=   0.0s\n",
      "[Voting] ...................... (2 of 3) Processing lda, total=   0.1s\n",
      "[Voting] ...................... (3 of 3) Processing svm, total=   0.9s\n",
      "[Voting] ...................... (1 of 3) Processing knn, total=   0.0s\n",
      "[Voting] ...................... (2 of 3) Processing lda, total=   0.1s\n",
      "[Voting] ...................... (3 of 3) Processing svm, total=   0.9s\n",
      "[Voting] ...................... (1 of 3) Processing knn, total=   0.0s\n",
      "[Voting] ...................... (2 of 3) Processing lda, total=   0.1s\n",
      "[Voting] ...................... (3 of 3) Processing svm, total=   0.9s\n",
      "[Voting] ...................... (1 of 3) Processing knn, total=   0.0s\n",
      "[Voting] ...................... (2 of 3) Processing lda, total=   0.1s\n",
      "[Voting] ...................... (3 of 3) Processing svm, total=   0.9s\n",
      "[Voting] ...................... (1 of 3) Processing knn, total=   0.0s\n",
      "[Voting] ...................... (2 of 3) Processing lda, total=   0.2s\n",
      "[Voting] ...................... (3 of 3) Processing svm, total=   1.0s\n",
      "[Voting] ...................... (1 of 3) Processing knn, total=   0.0s\n",
      "[Voting] ...................... (2 of 3) Processing lda, total=   0.2s\n",
      "[Voting] ...................... (3 of 3) Processing svm, total=   0.9s\n",
      "[Voting] ...................... (1 of 3) Processing knn, total=   0.0s\n",
      "[Voting] ...................... (2 of 3) Processing lda, total=   0.1s\n",
      "[Voting] ...................... (3 of 3) Processing svm, total=   0.9s\n",
      "[Voting] ...................... (1 of 3) Processing knn, total=   0.0s\n",
      "[Voting] ...................... (2 of 3) Processing lda, total=   0.2s\n",
      "[Voting] ...................... (3 of 3) Processing svm, total=   0.9s\n",
      "[Voting] ...................... (1 of 3) Processing knn, total=   0.0s\n",
      "[Voting] ...................... (2 of 3) Processing lda, total=   0.1s\n",
      "[Voting] ...................... (3 of 3) Processing svm, total=   0.9s\n",
      "[Voting] ...................... (1 of 3) Processing knn, total=   0.0s\n",
      "[Voting] ...................... (2 of 3) Processing lda, total=   0.1s\n",
      "[Voting] ...................... (3 of 3) Processing svm, total=   0.9s\n",
      "[Voting] ...................... (1 of 3) Processing knn, total=   0.0s\n",
      "[Voting] ...................... (2 of 3) Processing lda, total=   0.1s\n",
      "[Voting] ...................... (3 of 3) Processing svm, total=   0.9s\n",
      "[Voting] ...................... (1 of 3) Processing knn, total=   0.0s\n",
      "[Voting] ...................... (2 of 3) Processing lda, total=   0.1s\n",
      "[Voting] ...................... (3 of 3) Processing svm, total=   0.9s\n",
      "[Voting] ...................... (1 of 3) Processing knn, total=   0.0s\n",
      "[Voting] ...................... (2 of 3) Processing lda, total=   0.2s\n",
      "[Voting] ...................... (3 of 3) Processing svm, total=   1.0s\n",
      "[Voting] ...................... (1 of 3) Processing knn, total=   0.0s\n",
      "[Voting] ...................... (2 of 3) Processing lda, total=   0.1s\n",
      "[Voting] ...................... (3 of 3) Processing svm, total=   0.9s\n",
      "[Voting] ...................... (1 of 3) Processing knn, total=   0.0s\n",
      "[Voting] ...................... (2 of 3) Processing lda, total=   0.2s\n",
      "[Voting] ...................... (3 of 3) Processing svm, total=   1.0s\n",
      "[Voting] ...................... (1 of 3) Processing knn, total=   0.0s\n",
      "[Voting] ...................... (2 of 3) Processing lda, total=   0.1s\n",
      "[Voting] ...................... (3 of 3) Processing svm, total=   0.9s\n",
      "[Voting] ...................... (1 of 3) Processing knn, total=   0.0s\n",
      "[Voting] ...................... (2 of 3) Processing lda, total=   0.2s\n",
      "[Voting] ...................... (3 of 3) Processing svm, total=   0.9s\n",
      "[Voting] ...................... (1 of 3) Processing knn, total=   0.0s\n",
      "[Voting] ...................... (2 of 3) Processing lda, total=   0.1s\n",
      "[Voting] ...................... (3 of 3) Processing svm, total=   0.9s\n",
      "[Voting] ...................... (1 of 3) Processing knn, total=   0.0s\n",
      "[Voting] ...................... (2 of 3) Processing lda, total=   0.1s\n",
      "[Voting] ...................... (3 of 3) Processing svm, total=   0.9s\n",
      "[Voting] ...................... (1 of 3) Processing knn, total=   0.0s\n",
      "[Voting] ...................... (2 of 3) Processing lda, total=   0.1s\n",
      "[Voting] ...................... (3 of 3) Processing svm, total=   0.9s\n",
      "[Voting] ...................... (1 of 3) Processing knn, total=   0.0s\n",
      "[Voting] ...................... (2 of 3) Processing lda, total=   0.1s\n",
      "[Voting] ...................... (3 of 3) Processing svm, total=   0.9s\n",
      "[Voting] ...................... (1 of 3) Processing knn, total=   0.0s\n",
      "[Voting] ...................... (2 of 3) Processing lda, total=   0.1s\n",
      "[Voting] ...................... (3 of 3) Processing svm, total=   0.9s\n",
      "[Voting] ...................... (1 of 3) Processing knn, total=   0.0s\n",
      "[Voting] ...................... (2 of 3) Processing lda, total=   0.1s\n",
      "[Voting] ...................... (3 of 3) Processing svm, total=   0.9s\n",
      "[Voting] ...................... (1 of 3) Processing knn, total=   0.0s\n",
      "[Voting] ...................... (2 of 3) Processing lda, total=   0.1s\n",
      "[Voting] ...................... (3 of 3) Processing svm, total=   0.9s\n",
      "[Voting] ...................... (1 of 3) Processing knn, total=   0.0s\n",
      "[Voting] ...................... (2 of 3) Processing lda, total=   0.1s\n",
      "[Voting] ...................... (3 of 3) Processing svm, total=   0.9s\n",
      "[Voting] ...................... (1 of 3) Processing knn, total=   0.0s\n",
      "[Voting] ...................... (2 of 3) Processing lda, total=   0.1s\n",
      "[Voting] ...................... (3 of 3) Processing svm, total=   0.9s\n",
      "[Voting] ...................... (1 of 3) Processing knn, total=   0.0s\n",
      "[Voting] ...................... (2 of 3) Processing lda, total=   0.1s\n",
      "[Voting] ...................... (3 of 3) Processing svm, total=   0.9s\n",
      "[Voting] ...................... (1 of 3) Processing knn, total=   0.0s\n",
      "[Voting] ...................... (2 of 3) Processing lda, total=   0.1s\n",
      "[Voting] ...................... (3 of 3) Processing svm, total=   0.9s\n",
      "[Voting] ...................... (1 of 3) Processing knn, total=   0.0s\n",
      "[Voting] ...................... (2 of 3) Processing lda, total=   0.1s\n",
      "[Voting] ...................... (3 of 3) Processing svm, total=   0.9s\n",
      "[Voting] ...................... (1 of 3) Processing knn, total=   0.0s\n",
      "[Voting] ...................... (2 of 3) Processing lda, total=   0.1s\n",
      "[Voting] ...................... (3 of 3) Processing svm, total=   0.9s\n",
      "[Voting] ...................... (1 of 3) Processing knn, total=   0.0s\n",
      "[Voting] ...................... (2 of 3) Processing lda, total=   0.1s\n",
      "[Voting] ...................... (3 of 3) Processing svm, total=   0.9s\n",
      "[Voting] ...................... (1 of 3) Processing knn, total=   0.0s\n",
      "[Voting] ...................... (2 of 3) Processing lda, total=   0.1s\n",
      "[Voting] ...................... (3 of 3) Processing svm, total=   0.9s\n",
      "[Voting] ...................... (1 of 3) Processing knn, total=   0.0s\n",
      "[Voting] ...................... (2 of 3) Processing lda, total=   0.1s\n",
      "[Voting] ...................... (3 of 3) Processing svm, total=   0.9s\n",
      "[Voting] ...................... (1 of 3) Processing knn, total=   0.0s\n",
      "[Voting] ...................... (2 of 3) Processing lda, total=   0.1s\n",
      "[Voting] ...................... (3 of 3) Processing svm, total=   0.9s\n",
      "[Voting] ...................... (1 of 3) Processing knn, total=   0.0s\n",
      "[Voting] ...................... (2 of 3) Processing lda, total=   0.1s\n",
      "[Voting] ...................... (3 of 3) Processing svm, total=   1.0s\n",
      "[Voting] ...................... (1 of 3) Processing knn, total=   0.1s\n",
      "[Voting] ...................... (2 of 3) Processing lda, total=   0.2s\n",
      "[Voting] ...................... (3 of 3) Processing svm, total=   1.3s\n"
     ]
    }
   ],
   "source": [
    "weights_params = {'weights':[[0.33, 0.33, 0.33],\n",
    "                             [0.5, 0.25, 0.25],[0.25, 0.5, 0.25],[0.25, 0.25, 0.5], \n",
    "                             [0.4, 0.3, 0.3], [0.3, 0.4, 0.3], [0.3, 0.3, 0.4]]}\n",
    "\n",
    "\n",
    "lda_knn_svm = VotingClassifier(estimators=[('knn', kNN_Manhattan), ('lda', lda), ('svm', svmClf)], voting='soft', verbose=1)\n",
    "\n",
    "ensemble_gs = GridSearchCV(lda_knn_svm, weights_params)\n",
    "\n",
    "start = time.time()\n",
    "ensemble_gs.fit(x_train_average,y_train)\n",
    "stop = time.time()                                    \n"
   ]
  },
  {
   "cell_type": "code",
   "execution_count": 50,
   "metadata": {},
   "outputs": [
    {
     "data": {
      "text/plain": [
       "{'mean_fit_time': array([1.10876846, 1.12874141, 1.12474523, 1.10555124, 1.09188075,\n",
       "        1.09973731, 1.10568857]),\n",
       " 'std_fit_time': array([0.03001134, 0.00892538, 0.03734621, 0.02235351, 0.0134729 ,\n",
       "        0.02191   , 0.02800304]),\n",
       " 'mean_score_time': array([0.32913427, 0.3368165 , 0.32857819, 0.33277054, 0.32427588,\n",
       "        0.32669878, 0.3308105 ]),\n",
       " 'std_score_time': array([0.01333946, 0.01127541, 0.01213487, 0.0097417 , 0.01301679,\n",
       "        0.01468292, 0.00936529]),\n",
       " 'param_weights': masked_array(data=[list([0.33, 0.33, 0.33]), list([0.5, 0.25, 0.25]),\n",
       "                    list([0.25, 0.5, 0.25]), list([0.25, 0.25, 0.5]),\n",
       "                    list([0.4, 0.3, 0.3]), list([0.3, 0.4, 0.3]),\n",
       "                    list([0.3, 0.3, 0.4])],\n",
       "              mask=[False, False, False, False, False, False, False],\n",
       "        fill_value='?',\n",
       "             dtype=object),\n",
       " 'params': [{'weights': [0.33, 0.33, 0.33]},\n",
       "  {'weights': [0.5, 0.25, 0.25]},\n",
       "  {'weights': [0.25, 0.5, 0.25]},\n",
       "  {'weights': [0.25, 0.25, 0.5]},\n",
       "  {'weights': [0.4, 0.3, 0.3]},\n",
       "  {'weights': [0.3, 0.4, 0.3]},\n",
       "  {'weights': [0.3, 0.3, 0.4]}],\n",
       " 'split0_test_score': array([1.        , 0.99791667, 0.99479167, 1.        , 1.        ,\n",
       "        0.99895833, 1.        ]),\n",
       " 'split1_test_score': array([0.99895833, 0.99895833, 0.99583333, 1.        , 0.99895833,\n",
       "        0.99895833, 1.        ]),\n",
       " 'split2_test_score': array([1.        , 1.        , 0.99791667, 1.        , 1.        ,\n",
       "        1.        , 1.        ]),\n",
       " 'split3_test_score': array([1.        , 0.99895833, 0.99583333, 1.        , 1.        ,\n",
       "        0.99895833, 1.        ]),\n",
       " 'split4_test_score': array([1.        , 0.99791667, 0.99479167, 1.        , 1.        ,\n",
       "        1.        , 1.        ]),\n",
       " 'mean_test_score': array([0.99979167, 0.99875   , 0.99583333, 1.        , 0.99979167,\n",
       "        0.999375  , 1.        ]),\n",
       " 'std_test_score': array([0.00041667, 0.00077951, 0.00114109, 0.        , 0.00041667,\n",
       "        0.00051031, 0.        ]),\n",
       " 'rank_test_score': array([3, 6, 7, 1, 3, 5, 1], dtype=int32)}"
      ]
     },
     "execution_count": 50,
     "metadata": {},
     "output_type": "execute_result"
    }
   ],
   "source": [
    "ensemble_gs.cv_results_"
   ]
  },
  {
   "cell_type": "code",
   "execution_count": 51,
   "metadata": {},
   "outputs": [
    {
     "name": "stdout",
     "output_type": "stream",
     "text": [
      "1.000 (+/-0.001) for {'weights': [0.33, 0.33, 0.33]}\n",
      "\n",
      "0.999 (+/-0.002) for {'weights': [0.5, 0.25, 0.25]}\n",
      "\n",
      "0.996 (+/-0.002) for {'weights': [0.25, 0.5, 0.25]}\n",
      "\n",
      "1.000 (+/-0.000) for {'weights': [0.25, 0.25, 0.5]}\n",
      "\n",
      "1.000 (+/-0.001) for {'weights': [0.4, 0.3, 0.3]}\n",
      "\n",
      "0.999 (+/-0.001) for {'weights': [0.3, 0.4, 0.3]}\n",
      "\n",
      "1.000 (+/-0.000) for {'weights': [0.3, 0.3, 0.4]}\n",
      "\n"
     ]
    }
   ],
   "source": [
    "means = ensemble_gs.cv_results_['mean_test_score']\n",
    "stds = ensemble_gs.cv_results_['std_test_score']\n",
    "for mean, std, params in zip(means, stds, ensemble_gs.cv_results_['params']):\n",
    "    print(\"%0.3f (+/-%0.03f) for %r\"%(mean, std * 2, params))\n",
    "    print()"
   ]
  },
  {
   "cell_type": "markdown",
   "metadata": {},
   "source": [
    "# Ensemble voting with Random Search\n"
   ]
  },
  {
   "cell_type": "code",
   "execution_count": 28,
   "metadata": {},
   "outputs": [],
   "source": [
    "from sklearn.model_selection import RandomizedSearchCV"
   ]
  },
  {
   "cell_type": "code",
   "execution_count": null,
   "metadata": {},
   "outputs": [],
   "source": [
    "weights_params = {'weights':[[0.33, 0.33, 0.33],\n",
    "                             [0.5, 0.25, 0.25],[0.25, 0.5, 0.25],[0.25, 0.25, 0.5], \n",
    "                             [0.4, 0.3, 0.3], [0.3, 0.4, 0.3], [0.3, 0.3, 0.4]]}"
   ]
  },
  {
   "cell_type": "code",
   "execution_count": 46,
   "metadata": {},
   "outputs": [],
   "source": [
    "import random"
   ]
  },
  {
   "cell_type": "code",
   "execution_count": 47,
   "metadata": {},
   "outputs": [],
   "source": [
    "weights_rand= {'weights':[[random.uniform(0.1, 0.9), random.uniform(0.1, 0.9), random.uniform(0.1, 0.9)],\n",
    "                         [random.uniform(0.1, 0.9), random.uniform(0.1, 0.9), random.uniform(0.1, 0.9)], \n",
    "                          [random.uniform(0.1, 0.9), random.uniform(0.1, 0.9), random.uniform(0.1, 0.9)]]}"
   ]
  },
  {
   "cell_type": "code",
   "execution_count": null,
   "metadata": {},
   "outputs": [],
   "source": []
  },
  {
   "cell_type": "code",
   "execution_count": 48,
   "metadata": {},
   "outputs": [],
   "source": [
    "\n",
    "\n",
    "lda_knn_svm = VotingClassifier(estimators=[('knn', kNN_Manhattan), ('lda', lda), ('svm', svmClf)], voting='soft', verbose=1)\n",
    "#ensemble_gs = GridSearchCV(lda_knn_svm, weights_params)\n",
    "random_voter = RandomizedSearchCV(lda_knn_svm, weights_rand)"
   ]
  },
  {
   "cell_type": "code",
   "execution_count": 49,
   "metadata": {},
   "outputs": [
    {
     "name": "stderr",
     "output_type": "stream",
     "text": [
      "/Users/apple/.pyenv/versions/3.7.3/lib/python3.7/site-packages/sklearn/model_selection/_search.py:282: UserWarning: The total space of parameters 3 is smaller than n_iter=10. Running 3 iterations. For exhaustive searches, use GridSearchCV.\n",
      "  % (grid_size, self.n_iter, grid_size), UserWarning)\n"
     ]
    },
    {
     "name": "stdout",
     "output_type": "stream",
     "text": [
      "[Voting] ...................... (1 of 3) Processing knn, total=   0.0s\n",
      "[Voting] ...................... (2 of 3) Processing lda, total=   0.2s\n",
      "[Voting] ...................... (3 of 3) Processing svm, total=   1.0s\n",
      "[Voting] ...................... (1 of 3) Processing knn, total=   0.0s\n",
      "[Voting] ...................... (2 of 3) Processing lda, total=   0.1s\n",
      "[Voting] ...................... (3 of 3) Processing svm, total=   0.9s\n",
      "[Voting] ...................... (1 of 3) Processing knn, total=   0.0s\n",
      "[Voting] ...................... (2 of 3) Processing lda, total=   0.1s\n",
      "[Voting] ...................... (3 of 3) Processing svm, total=   0.9s\n",
      "[Voting] ...................... (1 of 3) Processing knn, total=   0.0s\n",
      "[Voting] ...................... (2 of 3) Processing lda, total=   0.1s\n",
      "[Voting] ...................... (3 of 3) Processing svm, total=   0.9s\n",
      "[Voting] ...................... (1 of 3) Processing knn, total=   0.0s\n",
      "[Voting] ...................... (2 of 3) Processing lda, total=   0.1s\n",
      "[Voting] ...................... (3 of 3) Processing svm, total=   0.9s\n",
      "[Voting] ...................... (1 of 3) Processing knn, total=   0.0s\n",
      "[Voting] ...................... (2 of 3) Processing lda, total=   0.1s\n",
      "[Voting] ...................... (3 of 3) Processing svm, total=   0.9s\n",
      "[Voting] ...................... (1 of 3) Processing knn, total=   0.0s\n",
      "[Voting] ...................... (2 of 3) Processing lda, total=   0.1s\n",
      "[Voting] ...................... (3 of 3) Processing svm, total=   0.9s\n",
      "[Voting] ...................... (1 of 3) Processing knn, total=   0.0s\n",
      "[Voting] ...................... (2 of 3) Processing lda, total=   0.1s\n",
      "[Voting] ...................... (3 of 3) Processing svm, total=   1.0s\n",
      "[Voting] ...................... (1 of 3) Processing knn, total=   0.0s\n",
      "[Voting] ...................... (2 of 3) Processing lda, total=   0.2s\n",
      "[Voting] ...................... (3 of 3) Processing svm, total=   1.0s\n",
      "[Voting] ...................... (1 of 3) Processing knn, total=   0.0s\n",
      "[Voting] ...................... (2 of 3) Processing lda, total=   0.1s\n",
      "[Voting] ...................... (3 of 3) Processing svm, total=   1.0s\n",
      "[Voting] ...................... (1 of 3) Processing knn, total=   0.0s\n",
      "[Voting] ...................... (2 of 3) Processing lda, total=   0.1s\n",
      "[Voting] ...................... (3 of 3) Processing svm, total=   0.9s\n",
      "[Voting] ...................... (1 of 3) Processing knn, total=   0.0s\n",
      "[Voting] ...................... (2 of 3) Processing lda, total=   0.1s\n",
      "[Voting] ...................... (3 of 3) Processing svm, total=   0.9s\n",
      "[Voting] ...................... (1 of 3) Processing knn, total=   0.1s\n",
      "[Voting] ...................... (2 of 3) Processing lda, total=   0.1s\n",
      "[Voting] ...................... (3 of 3) Processing svm, total=   1.0s\n",
      "[Voting] ...................... (1 of 3) Processing knn, total=   0.0s\n",
      "[Voting] ...................... (2 of 3) Processing lda, total=   0.1s\n",
      "[Voting] ...................... (3 of 3) Processing svm, total=   0.9s\n",
      "[Voting] ...................... (1 of 3) Processing knn, total=   0.0s\n",
      "[Voting] ...................... (2 of 3) Processing lda, total=   0.1s\n",
      "[Voting] ...................... (3 of 3) Processing svm, total=   1.0s\n",
      "[Voting] ...................... (1 of 3) Processing knn, total=   0.1s\n",
      "[Voting] ...................... (2 of 3) Processing lda, total=   0.2s\n",
      "[Voting] ...................... (3 of 3) Processing svm, total=   1.3s\n"
     ]
    },
    {
     "data": {
      "text/plain": [
       "RandomizedSearchCV(estimator=VotingClassifier(estimators=[('knn',\n",
       "                                                           KNeighborsClassifier(n_neighbors=3,\n",
       "                                                                                p=1,\n",
       "                                                                                weights='distance')),\n",
       "                                                          ('lda',\n",
       "                                                           LinearDiscriminantAnalysis()),\n",
       "                                                          ('svm',\n",
       "                                                           SVC(probability=True))],\n",
       "                                              verbose=1, voting='soft'),\n",
       "                   param_distributions={'weights': [[0.6328520719512413,\n",
       "                                                     0.6663306545655543,\n",
       "                                                     0.3599861621869408],\n",
       "                                                    [0.20987949099695957,\n",
       "                                                     0.14023819025684878,\n",
       "                                                     0.812441268062074],\n",
       "                                                    [0.4949560691258236,\n",
       "                                                     0.22023629892467592,\n",
       "                                                     0.2666803153594929]]})"
      ]
     },
     "execution_count": 49,
     "metadata": {},
     "output_type": "execute_result"
    }
   ],
   "source": [
    "random_voter.fit(x_train_average, y_train)"
   ]
  },
  {
   "cell_type": "code",
   "execution_count": 50,
   "metadata": {},
   "outputs": [
    {
     "data": {
      "text/plain": [
       "{'weights': [0.20987949099695957, 0.14023819025684878, 0.812441268062074]}"
      ]
     },
     "execution_count": 50,
     "metadata": {},
     "output_type": "execute_result"
    }
   ],
   "source": [
    "random_voter.best_params_"
   ]
  },
  {
   "cell_type": "code",
   "execution_count": 51,
   "metadata": {},
   "outputs": [
    {
     "data": {
      "text/plain": [
       "1.0"
      ]
     },
     "execution_count": 51,
     "metadata": {},
     "output_type": "execute_result"
    }
   ],
   "source": [
    "random_voter.best_score_"
   ]
  },
  {
   "cell_type": "code",
   "execution_count": 52,
   "metadata": {},
   "outputs": [
    {
     "data": {
      "text/plain": [
       "array([-1, -1, -1, ..., -1, -1, -1])"
      ]
     },
     "execution_count": 52,
     "metadata": {},
     "output_type": "execute_result"
    }
   ],
   "source": [
    "random_voter.predict(x_train_average)"
   ]
  },
  {
   "cell_type": "code",
   "execution_count": 53,
   "metadata": {},
   "outputs": [
    {
     "name": "stdout",
     "output_type": "stream",
     "text": [
      "time 1.5380220413208008\n",
      "accuracy: 0.9991666666666666\n",
      "recall: 0.993103448275862\n",
      "precision: 1.0\n",
      "roc-auc: 0.996551724137931\n",
      "f-measure: 0.9965397923875432\n"
     ]
    }
   ],
   "source": [
    "lda_knn_svm_w1 = VotingClassifier(estimators=[('knn', kNN_Manhattan), ('lda', lda), ('svm', svmClf)], voting='soft', weights =[0.2098, 0.1402, 0.8124])\n",
    "start = time.time()\n",
    "lda_knn_svm_w1.fit(x_train_average,y_train)\n",
    "stop = time.time()                                    \n",
    "print(\"time\", stop-start)\n",
    "prediction = lda_knn_svm_w1.predict(x_test_average)\n",
    "print(\"accuracy:\",metrics.accuracy_score(y_test, prediction))\n",
    "print(\"recall:\",metrics.recall_score(y_test, prediction))\n",
    "print(\"precision:\",metrics.precision_score(y_test, prediction))\n",
    "print(\"roc-auc:\",metrics.roc_auc_score(y_test, prediction))\n",
    "print(\"f-measure:\",metrics.f1_score(y_test, prediction))"
   ]
  },
  {
   "cell_type": "code",
   "execution_count": 54,
   "metadata": {},
   "outputs": [
    {
     "name": "stdout",
     "output_type": "stream",
     "text": [
      "time 1.6066091060638428\n",
      "accuracy: 0.9991666666666666\n",
      "recall: 0.993103448275862\n",
      "precision: 1.0\n",
      "roc-auc: 0.996551724137931\n",
      "f-measure: 0.9965397923875432\n"
     ]
    }
   ],
   "source": [
    "lda_knn_svm_gs = VotingClassifier(estimators=[('knn', kNN_Manhattan), ('lda', lda), ('svm', svmClf)], voting='soft', weights =[0.2098, 0.1402, 0.8124])\n",
    "start = time.time()\n",
    "lda_knn_svm_gs.fit(x_train_average,y_train)\n",
    "stop = time.time()                                    \n",
    "print(\"time\", stop-start)\n",
    "prediction = lda_knn_svm_gs.predict(x_test_average)\n",
    "print(\"accuracy:\",metrics.accuracy_score(y_test, prediction))\n",
    "print(\"recall:\",metrics.recall_score(y_test, prediction))\n",
    "print(\"precision:\",metrics.precision_score(y_test, prediction))\n",
    "print(\"roc-auc:\",metrics.roc_auc_score(y_test, prediction))\n",
    "print(\"f-measure:\",metrics.f1_score(y_test, prediction))"
   ]
  },
  {
   "cell_type": "markdown",
   "metadata": {},
   "source": [
    "# Boosting"
   ]
  },
  {
   "cell_type": "code",
   "execution_count": 25,
   "metadata": {},
   "outputs": [],
   "source": [
    "import xgboost as xgb"
   ]
  },
  {
   "cell_type": "code",
   "execution_count": 26,
   "metadata": {},
   "outputs": [
    {
     "name": "stdout",
     "output_type": "stream",
     "text": [
      "[19:59:26] WARNING: /Users/travis/build/dmlc/xgboost/src/learner.cc:1061: Starting in XGBoost 1.3.0, the default evaluation metric used with the objective 'binary:logistic' was changed from 'error' to 'logloss'. Explicitly set eval_metric if you'd like to restore the old behavior.\n"
     ]
    },
    {
     "name": "stderr",
     "output_type": "stream",
     "text": [
      "/Users/apple/.pyenv/versions/3.7.3/lib/python3.7/site-packages/xgboost/sklearn.py:892: UserWarning: The use of label encoder in XGBClassifier is deprecated and will be removed in a future release. To remove this warning, do the following: 1) Pass option use_label_encoder=False when constructing XGBClassifier object; and 2) Encode your labels (y) as integers starting with 0, i.e. 0, 1, 2, ..., [num_class - 1].\n",
      "  warnings.warn(label_encoder_deprecation_msg, UserWarning)\n"
     ]
    },
    {
     "name": "stdout",
     "output_type": "stream",
     "text": [
      "time 1.882566213607788\n",
      "accuracy: 0.9941666666666666\n",
      "recall: 0.9517241379310345\n",
      "precision: 1.0\n",
      "roc-auc: 0.9758620689655173\n",
      "f-measure: 0.9752650176678445\n"
     ]
    }
   ],
   "source": [
    "xgboost=xgb.XGBClassifier(random_state=1,learning_rate=0.01)\n",
    "start = time.time()\n",
    "xgboost.fit(x_train_average, y_train)\n",
    "stop = time.time()\n",
    "print(\"time\", stop - start)\n",
    "prediction = xgboost.predict(x_test_average)\n",
    "print(\"accuracy:\",metrics.accuracy_score(y_test, prediction))\n",
    "print(\"recall:\",metrics.recall_score(y_test, prediction))\n",
    "print(\"precision:\",metrics.precision_score(y_test, prediction))\n",
    "print(\"roc-auc:\",metrics.roc_auc_score(y_test, prediction))\n",
    "print(\"f-measure:\",metrics.f1_score(y_test, prediction))"
   ]
  },
  {
   "cell_type": "code",
   "execution_count": null,
   "metadata": {},
   "outputs": [],
   "source": []
  },
  {
   "cell_type": "code",
   "execution_count": 122,
   "metadata": {},
   "outputs": [
    {
     "name": "stdout",
     "output_type": "stream",
     "text": [
      "time 6.497662305831909\n",
      "accuracy: 0.9683333333333334\n",
      "recall: 0.7379310344827587\n",
      "precision: 1.0\n",
      "roc-auc: 0.8689655172413793\n",
      "f-measure: 0.8492063492063493\n"
     ]
    }
   ],
   "source": [
    "from sklearn.ensemble import GradientBoostingClassifier\n",
    "gradboost= GradientBoostingClassifier(learning_rate=0.01,random_state=1)\n",
    "start = time.time()\n",
    "gradboost.fit(x_train_average, y_train)\n",
    "stop = time.time()\n",
    "print(\"time\", stop - start)\n",
    "prediction = gradboost.predict(x_test_average)\n",
    "print(\"accuracy:\",metrics.accuracy_score(y_test, prediction))\n",
    "print(\"recall:\",metrics.recall_score(y_test, prediction))\n",
    "print(\"precision:\",metrics.precision_score(y_test, prediction))\n",
    "print(\"roc-auc:\",metrics.roc_auc_score(y_test, prediction))\n",
    "print(\"f-measure:\",metrics.f1_score(y_test, prediction))"
   ]
  },
  {
   "cell_type": "markdown",
   "metadata": {},
   "source": [
    "# CNN "
   ]
  },
  {
   "cell_type": "code",
   "execution_count": null,
   "metadata": {},
   "outputs": [],
   "source": []
  },
  {
   "cell_type": "code",
   "execution_count": 60,
   "metadata": {},
   "outputs": [
    {
     "name": "stdout",
     "output_type": "stream",
     "text": [
      "Model: \"model\"\n",
      "_________________________________________________________________\n",
      "Layer (type)                 Output Shape              Param #   \n",
      "=================================================================\n",
      "main_input (InputLayer)      [(None, 201, 8, 1)]       0         \n",
      "_________________________________________________________________\n",
      "conv2d (Conv2D)              (None, 201, 8, 16)        1040      \n",
      "_________________________________________________________________\n",
      "conv2d_1 (Conv2D)            (None, 201, 8, 32)        18464     \n",
      "_________________________________________________________________\n",
      "conv2d_2 (Conv2D)            (None, 201, 8, 8)         4104      \n",
      "_________________________________________________________________\n",
      "conv2d_3 (Conv2D)            (None, 201, 8, 4)         132       \n",
      "_________________________________________________________________\n",
      "global_average_pooling2d (Gl (None, 4)                 0         \n",
      "_________________________________________________________________\n",
      "dense (Dense)                (None, 8)                 40        \n",
      "_________________________________________________________________\n",
      "dense_1 (Dense)              (None, 64)                576       \n",
      "_________________________________________________________________\n",
      "dense_2 (Dense)              (None, 2)                 130       \n",
      "=================================================================\n",
      "Total params: 24,486\n",
      "Trainable params: 24,486\n",
      "Non-trainable params: 0\n",
      "_________________________________________________________________\n"
     ]
    }
   ],
   "source": [
    "import tensorflow as tf\n",
    "\n",
    "from tensorflow import keras\n",
    "tf.keras.backend.clear_session()  # For easy reset of notebook state.\n",
    "\n",
    "from tensorflow.keras import layers\n",
    "\n",
    "input_layer = keras.Input(shape = (201,8,1), name='main_input')\n",
    "x     = layers.Conv2D(16, 8, padding='same', activation='relu')(input_layer)\n",
    "x     = layers.Conv2D(32, 6, padding='same', activation='relu')(x)\n",
    "x     = layers.Conv2D(8, 4, padding='same', activation='relu')(x)\n",
    "x     = layers.Conv2D(4, 2, padding='same', activation='relu')(x)\n",
    "x     = layers.GlobalAveragePooling2D()(x)\n",
    "x     = layers.Dense(8)(x)\n",
    "x     = layers.Dense(64)(x)\n",
    "output = layers.Dense(2, activation='softmax')(x)\n",
    "\n",
    "cnn = keras.Model(inputs=input_layer, outputs=output)\n",
    "\n",
    "cnn.summary()"
   ]
  },
  {
   "cell_type": "code",
   "execution_count": 114,
   "metadata": {},
   "outputs": [],
   "source": [
    "#compiling the model\n",
    "opt = keras.optimizers.Adam(lr=0.01, beta_1=0.9, beta_2=0.999, amsgrad=True)  # default params\n",
    "cnn.compile(optimizer=opt,\n",
    "              loss='binary_crossentropy',\n",
    "              metrics=['accuracy'])\n"
   ]
  },
  {
   "cell_type": "code",
   "execution_count": 115,
   "metadata": {},
   "outputs": [
    {
     "name": "stdout",
     "output_type": "stream",
     "text": [
      "Epoch 1/20\n",
      "4800/4800 [==============================] - 61s 13ms/step - loss: 0.6931 - accuracy: 0.0590\n",
      "Epoch 2/20\n",
      "4800/4800 [==============================] - 63s 13ms/step - loss: 0.6931 - accuracy: 0.0640\n",
      "Epoch 3/20\n",
      "4800/4800 [==============================] - 63s 13ms/step - loss: 0.6931 - accuracy: 0.0600\n",
      "Epoch 4/20\n",
      "4800/4800 [==============================] - 63s 13ms/step - loss: 0.6931 - accuracy: 0.0575\n",
      "Epoch 5/20\n",
      "4800/4800 [==============================] - 64s 13ms/step - loss: 0.6931 - accuracy: 0.0556\n",
      "Epoch 6/20\n",
      "4800/4800 [==============================] - 59s 12ms/step - loss: 0.6931 - accuracy: 0.0615\n",
      "Epoch 7/20\n",
      "4800/4800 [==============================] - 63s 13ms/step - loss: 0.6931 - accuracy: 0.0654\n",
      "Epoch 8/20\n",
      "4800/4800 [==============================] - 62s 13ms/step - loss: 0.6931 - accuracy: 0.0656\n",
      "Epoch 9/20\n",
      "4800/4800 [==============================] - 61s 13ms/step - loss: 0.6931 - accuracy: 0.0623\n",
      "Epoch 10/20\n",
      "4800/4800 [==============================] - 63s 13ms/step - loss: 0.6931 - accuracy: 0.0635\n",
      "Epoch 11/20\n",
      "4800/4800 [==============================] - 65s 13ms/step - loss: 0.6931 - accuracy: 0.0662\n",
      "Epoch 12/20\n",
      "4800/4800 [==============================] - 64s 13ms/step - loss: 0.6931 - accuracy: 0.0633\n",
      "Epoch 13/20\n",
      "4800/4800 [==============================] - 65s 14ms/step - loss: 0.6931 - accuracy: 0.0635\n",
      "Epoch 14/20\n",
      "4800/4800 [==============================] - 66s 14ms/step - loss: 0.6931 - accuracy: 0.0600\n",
      "Epoch 15/20\n",
      "4800/4800 [==============================] - 63s 13ms/step - loss: 0.6931 - accuracy: 0.0615\n",
      "Epoch 16/20\n",
      "4800/4800 [==============================] - 63s 13ms/step - loss: 0.6931 - accuracy: 0.0633\n",
      "Epoch 17/20\n",
      "4800/4800 [==============================] - 65s 14ms/step - loss: 0.6931 - accuracy: 0.0579\n",
      "Epoch 18/20\n",
      "4800/4800 [==============================] - 63s 13ms/step - loss: 0.6931 - accuracy: 0.0633\n",
      "Epoch 19/20\n",
      "4800/4800 [==============================] - 63s 13ms/step - loss: 0.6931 - accuracy: 0.0654\n",
      "Epoch 20/20\n",
      "4800/4800 [==============================] - 63s 13ms/step - loss: 0.6931 - accuracy: 0.0619\n",
      "1265.5356640815735\n"
     ]
    }
   ],
   "source": [
    "start = time.time()\n",
    "history = cnn.fit(x_train, y_train, batch_size=1, epochs=20)\n",
    "stop = time.time()\n",
    "print(stop - start)"
   ]
  },
  {
   "cell_type": "code",
   "execution_count": 121,
   "metadata": {},
   "outputs": [
    {
     "data": {
      "text/plain": [
       "array([[0.49999818, 0.5000018 ],\n",
       "       [0.49999818, 0.5000018 ],\n",
       "       [0.49999818, 0.5000018 ],\n",
       "       ...,\n",
       "       [0.49999818, 0.5000018 ],\n",
       "       [0.49999818, 0.5000018 ],\n",
       "       [0.49999818, 0.5000018 ]], dtype=float32)"
      ]
     },
     "execution_count": 121,
     "metadata": {},
     "output_type": "execute_result"
    }
   ],
   "source": [
    "prediction = cnn.predict(x_test)\n",
    "prediction"
   ]
  },
  {
   "cell_type": "code",
   "execution_count": null,
   "metadata": {},
   "outputs": [],
   "source": []
  }
 ],
 "metadata": {
  "kernelspec": {
   "display_name": "Python 3",
   "language": "python",
   "name": "python3"
  },
  "language_info": {
   "codemirror_mode": {
    "name": "ipython",
    "version": 3
   },
   "file_extension": ".py",
   "mimetype": "text/x-python",
   "name": "python",
   "nbconvert_exporter": "python",
   "pygments_lexer": "ipython3",
   "version": "3.7.3"
  }
 },
 "nbformat": 4,
 "nbformat_minor": 2
}
